{
 "cells": [
  {
   "cell_type": "markdown",
   "metadata": {},
   "source": [
    "### Project in progress."
   ]
  },
  {
   "cell_type": "code",
   "execution_count": 2,
   "metadata": {},
   "outputs": [],
   "source": [
    "import pandas as pd\n",
    "import numpy as np\n",
    "\n",
    "import tensorflow\n",
    "from sklearn.preprocessing import StandardScaler, LabelEncoder\n",
    "from sklearn.model_selection import train_test_split\n",
    "\n",
    "from collections import Counter\n",
    "from sklearn.compose import ColumnTransformer\n",
    "from tensorflow.keras.models import Sequential\n",
    "from tensorflow.keras.layers import Dense, InputLayer\n",
    "\n",
    "from sklearn.metrics import classification_report\n",
    "\n",
    "from tensorflow.keras.utils import to_categorical\n",
    "\n",
    "from sklearn.preprocessing import Normalizer\n",
    "from tensorflow.keras.optimizers import Adam"
   ]
  },
  {
   "cell_type": "markdown",
   "metadata": {},
   "source": [
    "### Data preparation."
   ]
  },
  {
   "cell_type": "code",
   "execution_count": 20,
   "metadata": {},
   "outputs": [
    {
     "name": "stdout",
     "output_type": "stream",
     "text": [
      "<class 'pandas.core.frame.DataFrame'>\n",
      "RangeIndex: 299 entries, 0 to 298\n",
      "Data columns (total 14 columns):\n",
      " #   Column                    Non-Null Count  Dtype  \n",
      "---  ------                    --------------  -----  \n",
      " 0   Unnamed: 0                299 non-null    int64  \n",
      " 1   age                       299 non-null    float64\n",
      " 2   anaemia                   299 non-null    object \n",
      " 3   creatinine_phosphokinase  299 non-null    int64  \n",
      " 4   diabetes                  299 non-null    object \n",
      " 5   ejection_fraction         299 non-null    int64  \n",
      " 6   high_blood_pressure       299 non-null    object \n",
      " 7   platelets                 299 non-null    float64\n",
      " 8   serum_creatinine          299 non-null    float64\n",
      " 9   serum_sodium              299 non-null    int64  \n",
      " 10  sex                       299 non-null    object \n",
      " 11  smoking                   299 non-null    object \n",
      " 12  time                      299 non-null    int64  \n",
      " 13  death_event               299 non-null    object \n",
      "dtypes: float64(3), int64(5), object(6)\n",
      "memory usage: 32.8+ KB\n",
      "The count of death events:  Counter({'no': 203, 'yes': 96})\n"
     ]
    }
   ],
   "source": [
    "heart = pd.read_csv(\"heart failure.csv\")\n",
    "\n",
    "heart.head()\n",
    "heart.info()\n",
    "\n",
    "#Counting the number of death events. \n",
    "print(\"The count of death events: \", Counter(heart['death_event']))"
   ]
  },
  {
   "cell_type": "code",
   "execution_count": 21,
   "metadata": {},
   "outputs": [
    {
     "name": "stdout",
     "output_type": "stream",
     "text": [
      "      age anaemia  creatinine_phosphokinase diabetes  ejection_fraction  \\\n",
      "0    75.0      no                       582       no                 20   \n",
      "1    55.0      no                      7861       no                 38   \n",
      "2    65.0      no                       146       no                 20   \n",
      "3    50.0     yes                       111       no                 20   \n",
      "4    65.0     yes                       160      yes                 20   \n",
      "..    ...     ...                       ...      ...                ...   \n",
      "294  62.0      no                        61      yes                 38   \n",
      "295  55.0      no                      1820       no                 38   \n",
      "296  45.0      no                      2060      yes                 60   \n",
      "297  45.0      no                      2413       no                 38   \n",
      "298  50.0      no                       196       no                 45   \n",
      "\n",
      "    high_blood_pressure  platelets  serum_creatinine  serum_sodium  sex  \\\n",
      "0                   yes  265000.00               1.9           130  yes   \n",
      "1                    no  263358.03               1.1           136  yes   \n",
      "2                    no  162000.00               1.3           129  yes   \n",
      "3                    no  210000.00               1.9           137  yes   \n",
      "4                    no  327000.00               2.7           116   no   \n",
      "..                  ...        ...               ...           ...  ...   \n",
      "294                 yes  155000.00               1.1           143  yes   \n",
      "295                  no  270000.00               1.2           139   no   \n",
      "296                  no  742000.00               0.8           138   no   \n",
      "297                  no  140000.00               1.4           140  yes   \n",
      "298                  no  395000.00               1.6           136  yes   \n",
      "\n",
      "    smoking  time  \n",
      "0        no     4  \n",
      "1        no     6  \n",
      "2       yes     7  \n",
      "3        no     7  \n",
      "4        no     8  \n",
      "..      ...   ...  \n",
      "294     yes   270  \n",
      "295      no   271  \n",
      "296      no   278  \n",
      "297     yes   280  \n",
      "298     yes   285  \n",
      "\n",
      "[299 rows x 12 columns]     death_event\n",
      "0           yes\n",
      "1           yes\n",
      "2           yes\n",
      "3           yes\n",
      "4           yes\n",
      "..          ...\n",
      "294          no\n",
      "295          no\n",
      "296          no\n",
      "297          no\n",
      "298          no\n",
      "\n",
      "[299 rows x 1 columns]\n"
     ]
    }
   ],
   "source": [
    "features = heart[['age','anaemia','creatinine_phosphokinase','diabetes','ejection_fraction','high_blood_pressure','platelets','serum_creatinine','serum_sodium','sex','smoking','time']]\n",
    "labels = heart[['death_event']]\n",
    "\n",
    "\n",
    "print(features, labels)"
   ]
  },
  {
   "cell_type": "code",
   "execution_count": 22,
   "metadata": {},
   "outputs": [
    {
     "name": "stdout",
     "output_type": "stream",
     "text": [
      "      age  creatinine_phosphokinase  ejection_fraction  platelets  \\\n",
      "0    75.0                       582                 20  265000.00   \n",
      "1    55.0                      7861                 38  263358.03   \n",
      "2    65.0                       146                 20  162000.00   \n",
      "3    50.0                       111                 20  210000.00   \n",
      "4    65.0                       160                 20  327000.00   \n",
      "..    ...                       ...                ...        ...   \n",
      "294  62.0                        61                 38  155000.00   \n",
      "295  55.0                      1820                 38  270000.00   \n",
      "296  45.0                      2060                 60  742000.00   \n",
      "297  45.0                      2413                 38  140000.00   \n",
      "298  50.0                       196                 45  395000.00   \n",
      "\n",
      "     serum_creatinine  serum_sodium  time  anaemia_no  anaemia_yes  \\\n",
      "0                 1.9           130     4           1            0   \n",
      "1                 1.1           136     6           1            0   \n",
      "2                 1.3           129     7           1            0   \n",
      "3                 1.9           137     7           0            1   \n",
      "4                 2.7           116     8           0            1   \n",
      "..                ...           ...   ...         ...          ...   \n",
      "294               1.1           143   270           1            0   \n",
      "295               1.2           139   271           1            0   \n",
      "296               0.8           138   278           1            0   \n",
      "297               1.4           140   280           1            0   \n",
      "298               1.6           136   285           1            0   \n",
      "\n",
      "     diabetes_no  diabetes_yes  high_blood_pressure_no  \\\n",
      "0              1             0                       0   \n",
      "1              1             0                       1   \n",
      "2              1             0                       1   \n",
      "3              1             0                       1   \n",
      "4              0             1                       1   \n",
      "..           ...           ...                     ...   \n",
      "294            0             1                       0   \n",
      "295            1             0                       1   \n",
      "296            0             1                       1   \n",
      "297            1             0                       1   \n",
      "298            1             0                       1   \n",
      "\n",
      "     high_blood_pressure_yes  sex_no  sex_yes  smoking_no  smoking_yes  \n",
      "0                          1       0        1           1            0  \n",
      "1                          0       0        1           1            0  \n",
      "2                          0       0        1           0            1  \n",
      "3                          0       0        1           1            0  \n",
      "4                          0       1        0           1            0  \n",
      "..                       ...     ...      ...         ...          ...  \n",
      "294                        1       0        1           0            1  \n",
      "295                        0       1        0           1            0  \n",
      "296                        0       1        0           1            0  \n",
      "297                        0       0        1           0            1  \n",
      "298                        0       0        1           0            1  \n",
      "\n",
      "[299 rows x 17 columns]\n"
     ]
    }
   ],
   "source": [
    "features_dummies = pd.get_dummies(features)\n",
    "print(features_dummies)"
   ]
  },
  {
   "cell_type": "markdown",
   "metadata": {},
   "source": [
    "### Train-test split."
   ]
  },
  {
   "cell_type": "code",
   "execution_count": 44,
   "metadata": {},
   "outputs": [
    {
     "name": "stdout",
     "output_type": "stream",
     "text": [
      "    death_event\n",
      "224          no\n",
      "68          yes\n",
      "222          no\n",
      "37          yes\n",
      "16          yes\n",
      "    death_event\n",
      "281          no\n",
      "265          no\n",
      "164         yes\n",
      "9           yes\n",
      "77           no\n"
     ]
    }
   ],
   "source": [
    "feat_train, feat_test, labels_train, labels_test = train_test_split(features_dummies, labels, test_size = 0.3, random_state = 42)\n",
    "\n",
    "print(labels_train.head()) \n",
    "print(labels_test.head())\n",
    "#feat_train.info()"
   ]
  },
  {
   "cell_type": "markdown",
   "metadata": {},
   "source": [
    "### Data normalization. "
   ]
  },
  {
   "cell_type": "code",
   "execution_count": 31,
   "metadata": {},
   "outputs": [
    {
     "name": "stdout",
     "output_type": "stream",
     "text": [
      "[[1.15079274e-04 1.15476099e-03 4.96031352e-05 ... 1.98412541e-06\n",
      "  2.73809306e-04 4.06745708e-04]\n",
      " [2.86885111e-04 6.59835755e-04 1.02458968e-04 ... 4.91803048e-06\n",
      "  5.81966940e-04 2.70491676e-04]\n",
      " [1.15068463e-04 2.35616376e-04 9.58903857e-05 ... 3.01369784e-06\n",
      "  3.80821818e-04 5.50684787e-04]\n",
      " ...\n",
      " [2.09124582e-04 2.84409431e-03 1.71101931e-04 ... 4.94294466e-06\n",
      "  5.20910322e-04 3.34599331e-04]\n",
      " [1.67072435e-04 2.20991267e-03 1.13913024e-04 ... 6.07536128e-06\n",
      "  4.93623104e-04 9.26492595e-04]\n",
      " [5.36902574e-04 6.02673139e-03 1.67782054e-04 ... 7.38241039e-06\n",
      "  9.66424633e-04 5.83881549e-04]] [[1.37243657e-03 1.14108298e-02 7.84249470e-04 9.99918075e-01\n",
      "  5.29368393e-05 2.66644820e-03 4.90155919e-03]\n",
      " [1.38121458e-04 8.23203887e-04 9.66850203e-05 9.99999352e-01\n",
      "  2.48618624e-06 3.86740081e-04 6.62982996e-04]\n",
      " [1.34726914e-04 7.31118056e-03 8.98179430e-05 9.99973099e-01\n",
      "  3.29332458e-06 4.16156469e-04 3.86217155e-04]\n",
      " [2.06185539e-04 3.17010266e-04 9.02061734e-05 9.99999865e-01\n",
      "  2.42268009e-05 3.42783459e-04 2.57731924e-05]\n",
      " [1.77215129e-04 4.30379598e-04 1.68776313e-04 9.99999654e-01\n",
      "  5.06328939e-06 5.90717095e-04 3.12236179e-04]\n",
      " [2.15514865e-04 4.53012246e-03 1.29308919e-04 9.99988973e-01\n",
      "  3.01720811e-06 5.86200433e-04 1.06033314e-03]\n",
      " [2.85714114e-04 7.33332894e-04 1.19047548e-04 9.99999400e-01\n",
      "  8.09523324e-06 6.42856757e-04 3.90475956e-04]\n",
      " [5.29411722e-05 3.43529384e-04 4.11764673e-05 9.99999919e-01\n",
      "  1.52941164e-06 1.67058810e-04 1.03529403e-04]\n",
      " [4.41176315e-04 2.30392075e-04 1.96078362e-04 9.99999647e-01\n",
      "  1.02941140e-05 6.47058595e-04 3.92156724e-05]\n",
      " [2.64550054e-04 6.08465125e-04 1.05820022e-04 9.99999205e-01\n",
      "  4.23280087e-06 7.35449151e-04 7.72486159e-04]\n",
      " [2.74509724e-04 2.31372482e-04 2.35294049e-04 9.99999710e-01\n",
      "  4.31372424e-06 5.33333179e-04 3.33333237e-04]\n",
      " [3.45290660e-04 1.87443501e-03 2.01793243e-04 9.99997626e-01\n",
      "  8.07172972e-06 6.50222672e-04 8.07172972e-04]\n",
      " [2.64839982e-04 6.62099955e-04 1.14155165e-04 9.99999242e-01\n",
      "  5.47944790e-06 6.25570302e-04 7.76255120e-04]\n",
      " [2.76595368e-04 1.42552997e-03 1.48935967e-04 9.99998637e-01\n",
      "  3.40425068e-06 5.78722615e-04 5.10637602e-04]\n",
      " [2.77776600e-04 2.81017327e-03 1.85184400e-04 9.99995760e-01\n",
      "  2.77776600e-06 6.38886180e-04 2.49998940e-04]\n",
      " [1.15362112e-04 1.97448663e-02 6.40900620e-05 9.99804967e-01\n",
      "  2.56360248e-06 3.56340745e-04 1.53816149e-04]\n",
      " [2.64456869e-04 6.65274311e-03 2.47928315e-04 9.99977535e-01\n",
      "  4.13213858e-06 5.66102985e-04 4.66931659e-04]\n",
      " [2.07235825e-04 3.07893226e-03 1.24999387e-04 9.99995093e-01\n",
      "  3.61840330e-06 4.37497853e-04 2.89472264e-04]\n",
      " [1.16882972e-04 1.51168644e-03 9.09089785e-05 9.99998763e-01\n",
      "  2.59739938e-06 3.76622911e-04 1.58441362e-04]\n",
      " [3.03767478e-04 3.05666025e-03 1.44289552e-04 9.99995057e-01\n",
      "  4.17680282e-06 5.08810525e-04 4.13883189e-04]\n",
      " [3.09277974e-04 1.19072020e-03 1.28865823e-04 9.99998783e-01\n",
      "  8.76287594e-06 7.21648606e-04 6.18555948e-04]\n",
      " [2.09790162e-04 1.85314643e-04 1.74825135e-04 9.99999774e-01\n",
      "  8.04195623e-06 4.99999887e-04 3.04195736e-04]\n",
      " [2.60162410e-04 5.81300385e-04 1.01625941e-04 9.99999263e-01\n",
      "  9.75609037e-06 5.48780083e-04 8.69918058e-04]\n",
      " [1.88189414e-04 5.09218415e-03 9.22497129e-05 9.99986888e-01\n",
      "  3.32098966e-06 4.79698507e-04 1.40219564e-04]\n",
      " [3.78376425e-04 3.08647055e-03 2.43241987e-04 9.99994837e-01\n",
      "  6.48645300e-06 7.51347472e-04 1.78377457e-04]\n",
      " [1.06634945e-04 1.37914529e-03 9.00472869e-05 9.99998818e-01\n",
      "  1.89573236e-06 3.24644166e-04 5.80568034e-04]\n",
      " [2.90438057e-04 1.11818652e-02 1.65964604e-04 9.99936738e-01\n",
      "  4.14911510e-06 5.68428768e-04 1.02483143e-03]\n",
      " [2.21402148e-04 3.54243437e-04 2.21402148e-04 9.99999702e-01\n",
      "  2.58302506e-06 5.01844869e-04 3.46863365e-04]\n",
      " [1.96721188e-04 5.36884910e-04 1.22950743e-04 9.99999374e-01\n",
      "  6.55737295e-06 5.32786552e-04 7.90983112e-04]\n",
      " [3.02419139e-04 4.79838367e-04 2.01612759e-04 9.99999286e-01\n",
      "  4.43548070e-06 5.96773767e-04 8.42741333e-04]\n",
      " [2.71082580e-04 3.50600137e-03 8.43368027e-05 9.99993517e-01\n",
      "  4.81924587e-06 7.65055281e-04 8.43368027e-05]\n",
      " [2.08841022e-04 6.83479707e-04 1.70869927e-04 9.99999274e-01\n",
      "  4.48058919e-06 5.20203999e-04 8.01190101e-04]\n",
      " [1.65562870e-04 5.26489926e-04 9.93377219e-05 9.99999734e-01\n",
      "  3.97350888e-06 4.56953521e-04 9.60264645e-05]\n",
      " [2.84782671e-04 2.20991353e-03 1.13913069e-04 9.99997378e-01\n",
      "  6.94869718e-06 5.08811706e-04 8.73333526e-05]\n",
      " [1.61290019e-04 1.87741582e-03 1.22580414e-04 9.99998116e-01\n",
      "  6.12902071e-06 4.35483050e-04 1.12903013e-04]\n",
      " [1.32158551e-04 6.93832391e-04 1.32158551e-04 9.99999700e-01\n",
      "  2.42290676e-06 2.88546169e-04 2.20264251e-05]\n",
      " [1.99430154e-04 4.07407315e-04 1.70940132e-04 9.99999773e-01\n",
      "  3.70370286e-06 3.90313302e-04 2.56410198e-04]\n",
      " [3.57138451e-04 4.61899063e-03 1.58728200e-04 9.99987662e-01\n",
      "  1.26982560e-05 1.07141535e-03 1.42855380e-03]\n",
      " [2.41227991e-04 2.63157808e-04 1.53508721e-04 9.99999671e-01\n",
      "  5.26315616e-06 5.92105069e-04 3.94736712e-04]\n",
      " [1.59478289e-04 2.20991344e-03 2.27826128e-04 9.99997336e-01\n",
      "  4.48058051e-06 5.20202991e-04 3.11362374e-04]\n",
      " [2.94117538e-04 2.30392071e-04 9.80391793e-05 9.99999629e-01\n",
      "  3.43137128e-06 6.81372296e-04 3.57843005e-04]\n",
      " [3.06122316e-04 3.87754934e-04 1.27550965e-04 9.99999566e-01\n",
      "  1.27550965e-05 6.73469095e-04 3.92856972e-04]\n",
      " [3.20196854e-04 5.56649915e-04 2.95566327e-04 9.99999405e-01\n",
      "  4.43349490e-06 6.89654762e-04 4.63053912e-04]\n",
      " [2.20820143e-04 2.90220759e-04 1.89274408e-04 9.99999791e-01\n",
      "  2.52365878e-06 4.41640286e-04 2.33438437e-04]\n",
      " [2.33479929e-04 1.18942605e-03 1.54184859e-04 9.99998942e-01\n",
      "  1.49779577e-05 6.38765844e-04 4.62554577e-04]\n",
      " [2.50965089e-04 6.44787228e-04 1.15830041e-04 9.99999354e-01\n",
      "  3.08880109e-06 5.32818189e-04 7.18146254e-04]\n",
      " [1.79948524e-04 5.44986959e-04 4.37017845e-05 9.99999656e-01\n",
      "  2.57069320e-06 3.49614276e-04 4.83290322e-04]\n",
      " [2.46810718e-04 3.38700247e-03 1.32898079e-04 9.99993607e-01\n",
      "  4.17679676e-06 5.39186491e-04 9.72054520e-04]\n",
      " [1.48247762e-04 1.56873087e-03 9.43394851e-05 9.99998542e-01\n",
      "  1.88678970e-06 3.77357940e-04 5.30996530e-04]\n",
      " [2.35954948e-04 4.56928630e-04 2.24718999e-04 9.99999543e-01\n",
      "  4.49437997e-06 5.43070913e-04 5.50561546e-04]\n",
      " [2.13016888e-04 2.78992951e-03 7.39641971e-05 9.99995944e-01\n",
      "  5.02956540e-06 4.11240936e-04 3.28401035e-04]\n",
      " [3.26794655e-04 3.80388978e-03 3.26794655e-04 9.99991643e-01\n",
      "  3.92153585e-06 8.75809674e-04 1.12417361e-03]\n",
      " [1.95364122e-04 9.27151767e-04 8.27814077e-05 9.99999405e-01\n",
      "  3.31125631e-06 4.66887140e-04 2.58277992e-04]\n",
      " [1.32890029e-04 2.07308446e-03 1.16278776e-04 9.99997472e-01\n",
      "  3.32225074e-06 4.71759605e-04 7.10961658e-04]\n",
      " [2.78790402e-03 2.31794306e-02 1.51343361e-03 9.99662727e-01\n",
      "  4.38099203e-05 5.57580804e-03 9.79749127e-03]\n",
      " [4.36240816e-04 1.50335297e-03 3.35569859e-04 9.99998179e-01\n",
      "  8.72481633e-06 9.19461413e-04 4.83220597e-04]\n",
      " [2.04544858e-04 2.20453903e-03 1.43938974e-04 9.99997084e-01\n",
      "  6.81816194e-06 5.07574278e-04 8.06815829e-04]\n",
      " [5.36912135e-04 9.93287449e-04 2.55033264e-04 9.99998851e-01\n",
      "  1.27516632e-05 9.66441843e-04 1.54362239e-04]\n",
      " [1.82834548e-04 3.62684042e-03 1.30596106e-04 9.99993037e-01\n",
      "  2.98505384e-06 4.85071249e-04 6.97756335e-04]\n",
      " [2.83464215e-04 1.43306909e-03 7.87400598e-05 9.99998760e-01\n",
      "  5.11810389e-06 5.35432407e-04 2.32283176e-04]\n",
      " [5.90549621e-04 1.93700276e-03 1.18109924e-04 9.99997358e-01\n",
      "  9.44879393e-06 1.07873731e-03 7.87399494e-05]\n",
      " [3.34821225e-04 4.41964017e-04 1.69642754e-04 9.99999391e-01\n",
      "  1.11607075e-05 5.98213922e-04 7.23213846e-04]\n",
      " [1.55956266e-04 2.67352129e-04 7.71208065e-05 9.99999791e-01\n",
      "  3.85604033e-06 3.49614323e-04 4.39588597e-04]\n",
      " [2.38531979e-04 6.05504255e-04 1.37614604e-04 9.99999452e-01\n",
      "  3.21100742e-06 6.23852869e-04 5.13761186e-04]\n",
      " [3.56927605e-04 2.20991347e-03 1.44289883e-04 9.99997349e-01\n",
      "  6.94869699e-06 5.08811692e-04 1.02521759e-04]\n",
      " [2.35294013e-04 7.61245336e-04 1.21107213e-04 9.99999556e-01\n",
      "  3.11418547e-06 4.84428850e-04 6.92041215e-05]\n",
      " [2.01246556e-04 1.69350875e-03 2.27826290e-04 9.99998047e-01\n",
      "  3.79710483e-06 5.27797571e-04 8.16377538e-04]\n",
      " [3.13901239e-04 3.36322756e-04 1.56950619e-04 9.99999661e-01\n",
      "  1.21076192e-05 6.18833871e-04 2.42152384e-04]\n",
      " [4.04623459e-04 1.34103775e-03 1.73410054e-04 9.99997976e-01\n",
      "  6.93640215e-06 7.63004236e-04 1.21387038e-03]\n",
      " [1.63690393e-04 5.05952125e-04 1.19047559e-04 9.99999494e-01\n",
      "  3.57142676e-06 4.01785511e-04 7.44047243e-04]\n",
      " [1.69741633e-04 6.19925963e-04 6.27306034e-05 9.99999619e-01\n",
      "  7.74907454e-06 4.57564401e-04 3.69003549e-04]\n",
      " [2.74261438e-04 2.36286777e-04 1.05485168e-04 9.99999397e-01\n",
      "  2.10970337e-05 5.48522876e-04 8.73417195e-04]\n",
      " [2.46807071e-04 6.40938978e-03 1.44287211e-04 9.99978831e-01\n",
      "  4.17673505e-06 5.23990397e-04 9.49257965e-04]\n",
      " [1.55688548e-04 5.71856013e-04 8.98203162e-05 9.99999521e-01\n",
      "  2.99401054e-06 4.25149497e-04 6.46706277e-04]\n",
      " [3.61699277e-04 3.87230991e-03 2.12764281e-04 9.99992119e-01\n",
      "  5.53187130e-06 5.70208272e-04 5.14889559e-04]\n",
      " [2.83017815e-04 2.54716034e-03 2.26414252e-04 9.99996280e-01\n",
      "  5.28299921e-06 4.71696358e-04 7.73582028e-04]\n",
      " [2.65017551e-04 7.17314170e-04 1.34275559e-04 9.99999557e-01\n",
      "  2.12014040e-06 4.62897322e-04 2.61483983e-04]\n",
      " [1.97182909e-04 1.17370779e-03 7.04224675e-05 9.99999039e-01\n",
      "  6.10328052e-06 6.38497039e-04 3.05164026e-04]\n",
      " [6.06466609e-05 2.77626937e-03 8.08622146e-05 9.99996054e-01\n",
      "  1.07816286e-06 1.85983094e-04 3.74661594e-04]\n",
      " [1.92307598e-04 4.65384387e-04 1.53846078e-04 9.99999510e-01\n",
      "  2.69230637e-06 4.99999755e-04 6.73076593e-04]\n",
      " [2.66968118e-04 7.96379470e-04 1.13122084e-04 9.99999221e-01\n",
      "  4.52488335e-06 6.15384136e-04 6.78732503e-04]\n",
      " [5.51711057e-04 6.68949657e-03 6.32168919e-04 9.99976291e-01\n",
      "  2.18385627e-05 1.39077162e-03 1.72409705e-04]\n",
      " [1.93652191e-04 2.20991324e-03 1.32898562e-04 9.99997246e-01\n",
      "  5.69565268e-06 5.16405843e-04 5.50579759e-04]\n",
      " [1.69752971e-04 1.03703633e-03 1.38888794e-04 9.99999319e-01\n",
      "  2.77777589e-06 4.32098471e-04 2.28394906e-04]\n",
      " [2.81124416e-04 2.65060164e-04 1.80722839e-04 9.99999708e-01\n",
      "  3.21285047e-06 5.46184580e-04 3.21285047e-04]\n",
      " [1.74666470e-04 2.73011286e-03 1.51883887e-04 9.99996029e-01\n",
      "  4.48057465e-06 5.20202311e-04 4.06289396e-04]\n",
      " [3.49691716e-04 2.41986668e-02 1.43990707e-04 9.99706906e-01\n",
      "  4.11402019e-06 5.43050665e-04 2.96209454e-04]\n",
      " [1.74461312e-03 8.06351672e-03 1.06378849e-03 9.99961177e-01\n",
      "  2.76585006e-05 2.89350468e-03 2.76585006e-04]\n",
      " [2.03804325e-04 2.20108671e-04 1.03260858e-04 9.99999886e-01\n",
      "  1.08695640e-05 3.55978220e-04 2.71739099e-05]\n",
      " [1.90839558e-04 9.54197789e-04 9.54197789e-05 9.99999282e-01\n",
      "  3.81679115e-06 5.19083597e-04 4.58014938e-04]]\n"
     ]
    }
   ],
   "source": [
    "ct = ColumnTransformer([('numeric', StandardScaler(), ['age','creatinine_phosphokinase','ejection_fraction','platelets','serum_creatinine','serum_sodium','time'])])\n",
    "feat_train_scaled = ct.fit_transform(feat_train)\n",
    "feat_test_scaled = ct.transform(feat_test)\n",
    "\n",
    "print(feat_train_scaled, feat_test_scaled)"
   ]
  },
  {
   "cell_type": "markdown",
   "metadata": {},
   "source": [
    "### Raveling labels subsets into one-dimentional arrays."
   ]
  },
  {
   "cell_type": "code",
   "execution_count": 81,
   "metadata": {},
   "outputs": [
    {
     "name": "stdout",
     "output_type": "stream",
     "text": [
      "360\n",
      "360\n"
     ]
    }
   ],
   "source": [
    "labels_train = np.ravel(labels_test, order = 'C')\n",
    "labels_test = np.ravel(labels_test, order = 'C')\n",
    "\n",
    "print(len(labels_train))\n",
    "print(len(labels_test))"
   ]
  },
  {
   "cell_type": "markdown",
   "metadata": {},
   "source": [
    "### Label Encoding."
   ]
  },
  {
   "cell_type": "code",
   "execution_count": 82,
   "metadata": {},
   "outputs": [],
   "source": [
    "le = LabelEncoder()\n",
    "labels_train = le.fit_transform(labels_train.astype(str))\n",
    "labels_test = le.transform(labels_test.astype(str))"
   ]
  },
  {
   "cell_type": "markdown",
   "metadata": {},
   "source": [
    "### Turning string variables into categorical."
   ]
  },
  {
   "cell_type": "code",
   "execution_count": 76,
   "metadata": {},
   "outputs": [],
   "source": [
    "labels_train = tensorflow.keras.utils.to_categorical(labels_train, dtype = 'int64')\n",
    "labels_test = tensorflow.keras.utils.to_categorical(labels_test, dtype = 'int64')"
   ]
  },
  {
   "cell_type": "markdown",
   "metadata": {},
   "source": [
    "### Buliding the model"
   ]
  },
  {
   "cell_type": "code",
   "execution_count": 64,
   "metadata": {},
   "outputs": [
    {
     "name": "stdout",
     "output_type": "stream",
     "text": [
      "<keras.engine.sequential.Sequential object at 0x0000020EC84F5310>\n"
     ]
    }
   ],
   "source": [
    "model = Sequential()\n",
    "model.add(InputLayer(input_shape=(feat_train_scaled.shape[1])))\n",
    "model.add(Dense(12, activation ='relu'))\n",
    "model.add(Dense(12, activation = \"softmax\"))\n",
    "opt = Adam(learning_rate = 0.01)\n",
    "model.compile(loss = \"categorical_crossentropy\", optimizer = opt, metrics = \"accuracy\")\n",
    "print(model)"
   ]
  },
  {
   "cell_type": "markdown",
   "metadata": {},
   "source": [
    "### Fitting and estimating the model."
   ]
  },
  {
   "cell_type": "code",
   "execution_count": 83,
   "metadata": {},
   "outputs": [
    {
     "ename": "ValueError",
     "evalue": "Data cardinality is ambiguous:\n  x sizes: 209\n  y sizes: 360\nMake sure all arrays contain the same number of samples.",
     "output_type": "error",
     "traceback": [
      "\u001b[1;31m---------------------------------------------------------------------------\u001b[0m",
      "\u001b[1;31mValueError\u001b[0m                                Traceback (most recent call last)",
      "\u001b[1;32m<ipython-input-83-1871cec0f5f5>\u001b[0m in \u001b[0;36m<module>\u001b[1;34m\u001b[0m\n\u001b[1;32m----> 1\u001b[1;33m \u001b[0mmodel\u001b[0m\u001b[1;33m.\u001b[0m\u001b[0mfit\u001b[0m\u001b[1;33m(\u001b[0m\u001b[0mfeat_train_scaled\u001b[0m\u001b[1;33m,\u001b[0m \u001b[0mlabels_train\u001b[0m\u001b[1;33m,\u001b[0m \u001b[0mepochs\u001b[0m \u001b[1;33m=\u001b[0m \u001b[1;36m100\u001b[0m\u001b[1;33m,\u001b[0m \u001b[0mbatch_size\u001b[0m \u001b[1;33m=\u001b[0m \u001b[1;36m16\u001b[0m\u001b[1;33m,\u001b[0m \u001b[0mverbose\u001b[0m \u001b[1;33m=\u001b[0m \u001b[1;36m1\u001b[0m\u001b[1;33m)\u001b[0m\u001b[1;33m\u001b[0m\u001b[1;33m\u001b[0m\u001b[0m\n\u001b[0m",
      "\u001b[1;32m~\\anaconda3\\lib\\site-packages\\keras\\utils\\traceback_utils.py\u001b[0m in \u001b[0;36merror_handler\u001b[1;34m(*args, **kwargs)\u001b[0m\n\u001b[0;32m     65\u001b[0m     \u001b[1;32mexcept\u001b[0m \u001b[0mException\u001b[0m \u001b[1;32mas\u001b[0m \u001b[0me\u001b[0m\u001b[1;33m:\u001b[0m  \u001b[1;31m# pylint: disable=broad-except\u001b[0m\u001b[1;33m\u001b[0m\u001b[1;33m\u001b[0m\u001b[0m\n\u001b[0;32m     66\u001b[0m       \u001b[0mfiltered_tb\u001b[0m \u001b[1;33m=\u001b[0m \u001b[0m_process_traceback_frames\u001b[0m\u001b[1;33m(\u001b[0m\u001b[0me\u001b[0m\u001b[1;33m.\u001b[0m\u001b[0m__traceback__\u001b[0m\u001b[1;33m)\u001b[0m\u001b[1;33m\u001b[0m\u001b[1;33m\u001b[0m\u001b[0m\n\u001b[1;32m---> 67\u001b[1;33m       \u001b[1;32mraise\u001b[0m \u001b[0me\u001b[0m\u001b[1;33m.\u001b[0m\u001b[0mwith_traceback\u001b[0m\u001b[1;33m(\u001b[0m\u001b[0mfiltered_tb\u001b[0m\u001b[1;33m)\u001b[0m \u001b[1;32mfrom\u001b[0m \u001b[1;32mNone\u001b[0m\u001b[1;33m\u001b[0m\u001b[1;33m\u001b[0m\u001b[0m\n\u001b[0m\u001b[0;32m     68\u001b[0m     \u001b[1;32mfinally\u001b[0m\u001b[1;33m:\u001b[0m\u001b[1;33m\u001b[0m\u001b[1;33m\u001b[0m\u001b[0m\n\u001b[0;32m     69\u001b[0m       \u001b[1;32mdel\u001b[0m \u001b[0mfiltered_tb\u001b[0m\u001b[1;33m\u001b[0m\u001b[1;33m\u001b[0m\u001b[0m\n",
      "\u001b[1;32m~\\anaconda3\\lib\\site-packages\\keras\\engine\\data_adapter.py\u001b[0m in \u001b[0;36m_check_data_cardinality\u001b[1;34m(data)\u001b[0m\n\u001b[0;32m   1653\u001b[0m                            for i in tf.nest.flatten(single_data)))\n\u001b[0;32m   1654\u001b[0m     \u001b[0mmsg\u001b[0m \u001b[1;33m+=\u001b[0m \u001b[1;34m\"Make sure all arrays contain the same number of samples.\"\u001b[0m\u001b[1;33m\u001b[0m\u001b[1;33m\u001b[0m\u001b[0m\n\u001b[1;32m-> 1655\u001b[1;33m     \u001b[1;32mraise\u001b[0m \u001b[0mValueError\u001b[0m\u001b[1;33m(\u001b[0m\u001b[0mmsg\u001b[0m\u001b[1;33m)\u001b[0m\u001b[1;33m\u001b[0m\u001b[1;33m\u001b[0m\u001b[0m\n\u001b[0m\u001b[0;32m   1656\u001b[0m \u001b[1;33m\u001b[0m\u001b[0m\n\u001b[0;32m   1657\u001b[0m \u001b[1;33m\u001b[0m\u001b[0m\n",
      "\u001b[1;31mValueError\u001b[0m: Data cardinality is ambiguous:\n  x sizes: 209\n  y sizes: 360\nMake sure all arrays contain the same number of samples."
     ]
    }
   ],
   "source": [
    "model.fit(feat_train_scaled, labels_train, epochs = 100, batch_size = 16, verbose = 1)"
   ]
  },
  {
   "cell_type": "code",
   "execution_count": 71,
   "metadata": {},
   "outputs": [
    {
     "ename": "ValueError",
     "evalue": "in user code:\n\n    File \"C:\\Users\\acer\\anaconda3\\lib\\site-packages\\keras\\engine\\training.py\", line 1557, in test_function  *\n        return step_function(self, iterator)\n    File \"C:\\Users\\acer\\anaconda3\\lib\\site-packages\\keras\\engine\\training.py\", line 1546, in step_function  **\n        outputs = model.distribute_strategy.run(run_step, args=(data,))\n    File \"C:\\Users\\acer\\anaconda3\\lib\\site-packages\\keras\\engine\\training.py\", line 1535, in run_step  **\n        outputs = model.test_step(data)\n    File \"C:\\Users\\acer\\anaconda3\\lib\\site-packages\\keras\\engine\\training.py\", line 1499, in test_step\n        y_pred = self(x, training=False)\n    File \"C:\\Users\\acer\\anaconda3\\lib\\site-packages\\keras\\utils\\traceback_utils.py\", line 67, in error_handler\n        raise e.with_traceback(filtered_tb) from None\n    File \"C:\\Users\\acer\\anaconda3\\lib\\site-packages\\keras\\engine\\input_spec.py\", line 264, in assert_input_compatibility\n        raise ValueError(f'Input {input_index} of layer \"{layer_name}\" is '\n\n    ValueError: Input 0 of layer \"sequential_15\" is incompatible with the layer: expected shape=(None, 17), found shape=(None, 7)\n",
     "output_type": "error",
     "traceback": [
      "\u001b[1;31m---------------------------------------------------------------------------\u001b[0m",
      "\u001b[1;31mValueError\u001b[0m                                Traceback (most recent call last)",
      "\u001b[1;32m<ipython-input-71-1b4fbda8409e>\u001b[0m in \u001b[0;36m<module>\u001b[1;34m\u001b[0m\n\u001b[1;32m----> 1\u001b[1;33m \u001b[0mloss\u001b[0m\u001b[1;33m,\u001b[0m \u001b[0macc\u001b[0m \u001b[1;33m=\u001b[0m \u001b[0mmodel\u001b[0m\u001b[1;33m.\u001b[0m\u001b[0mevaluate\u001b[0m\u001b[1;33m(\u001b[0m\u001b[0mfeat_test\u001b[0m\u001b[1;33m,\u001b[0m \u001b[0mlabels_test\u001b[0m\u001b[1;33m)\u001b[0m\u001b[1;33m\u001b[0m\u001b[1;33m\u001b[0m\u001b[0m\n\u001b[0m\u001b[0;32m      2\u001b[0m \u001b[0mlabels_estimate\u001b[0m \u001b[1;33m=\u001b[0m \u001b[0mmodel\u001b[0m\u001b[1;33m.\u001b[0m\u001b[0mpredict\u001b[0m\u001b[1;33m(\u001b[0m\u001b[0mlabels_estimate\u001b[0m\u001b[1;33m)\u001b[0m\u001b[1;33m\u001b[0m\u001b[1;33m\u001b[0m\u001b[0m\n\u001b[0;32m      3\u001b[0m \u001b[0mlabels_estimate\u001b[0m \u001b[1;33m=\u001b[0m \u001b[0mnp\u001b[0m\u001b[1;33m.\u001b[0m\u001b[0margmax\u001b[0m\u001b[1;33m(\u001b[0m\u001b[0mlabels_estimate\u001b[0m\u001b[1;33m,\u001b[0m \u001b[0maxis\u001b[0m \u001b[1;33m=\u001b[0m \u001b[1;36m1\u001b[0m\u001b[1;33m)\u001b[0m\u001b[1;33m\u001b[0m\u001b[1;33m\u001b[0m\u001b[0m\n\u001b[0;32m      4\u001b[0m \u001b[0mtrue\u001b[0m \u001b[1;33m=\u001b[0m \u001b[0mnp\u001b[0m\u001b[1;33m.\u001b[0m\u001b[0margmax\u001b[0m\u001b[1;33m(\u001b[0m\u001b[0mlabels_test\u001b[0m\u001b[1;33m,\u001b[0m \u001b[0maxis\u001b[0m \u001b[1;33m=\u001b[0m \u001b[1;36m1\u001b[0m\u001b[1;33m)\u001b[0m\u001b[1;33m\u001b[0m\u001b[1;33m\u001b[0m\u001b[0m\n\u001b[0;32m      5\u001b[0m \u001b[1;33m\u001b[0m\u001b[0m\n",
      "\u001b[1;32m~\\anaconda3\\lib\\site-packages\\keras\\utils\\traceback_utils.py\u001b[0m in \u001b[0;36merror_handler\u001b[1;34m(*args, **kwargs)\u001b[0m\n\u001b[0;32m     65\u001b[0m     \u001b[1;32mexcept\u001b[0m \u001b[0mException\u001b[0m \u001b[1;32mas\u001b[0m \u001b[0me\u001b[0m\u001b[1;33m:\u001b[0m  \u001b[1;31m# pylint: disable=broad-except\u001b[0m\u001b[1;33m\u001b[0m\u001b[1;33m\u001b[0m\u001b[0m\n\u001b[0;32m     66\u001b[0m       \u001b[0mfiltered_tb\u001b[0m \u001b[1;33m=\u001b[0m \u001b[0m_process_traceback_frames\u001b[0m\u001b[1;33m(\u001b[0m\u001b[0me\u001b[0m\u001b[1;33m.\u001b[0m\u001b[0m__traceback__\u001b[0m\u001b[1;33m)\u001b[0m\u001b[1;33m\u001b[0m\u001b[1;33m\u001b[0m\u001b[0m\n\u001b[1;32m---> 67\u001b[1;33m       \u001b[1;32mraise\u001b[0m \u001b[0me\u001b[0m\u001b[1;33m.\u001b[0m\u001b[0mwith_traceback\u001b[0m\u001b[1;33m(\u001b[0m\u001b[0mfiltered_tb\u001b[0m\u001b[1;33m)\u001b[0m \u001b[1;32mfrom\u001b[0m \u001b[1;32mNone\u001b[0m\u001b[1;33m\u001b[0m\u001b[1;33m\u001b[0m\u001b[0m\n\u001b[0m\u001b[0;32m     68\u001b[0m     \u001b[1;32mfinally\u001b[0m\u001b[1;33m:\u001b[0m\u001b[1;33m\u001b[0m\u001b[1;33m\u001b[0m\u001b[0m\n\u001b[0;32m     69\u001b[0m       \u001b[1;32mdel\u001b[0m \u001b[0mfiltered_tb\u001b[0m\u001b[1;33m\u001b[0m\u001b[1;33m\u001b[0m\u001b[0m\n",
      "\u001b[1;32m~\\anaconda3\\lib\\site-packages\\keras\\engine\\training.py\u001b[0m in \u001b[0;36mtf__test_function\u001b[1;34m(iterator)\u001b[0m\n\u001b[0;32m     13\u001b[0m                 \u001b[1;32mtry\u001b[0m\u001b[1;33m:\u001b[0m\u001b[1;33m\u001b[0m\u001b[1;33m\u001b[0m\u001b[0m\n\u001b[0;32m     14\u001b[0m                     \u001b[0mdo_return\u001b[0m \u001b[1;33m=\u001b[0m \u001b[1;32mTrue\u001b[0m\u001b[1;33m\u001b[0m\u001b[1;33m\u001b[0m\u001b[0m\n\u001b[1;32m---> 15\u001b[1;33m                     \u001b[0mretval_\u001b[0m \u001b[1;33m=\u001b[0m \u001b[0mag__\u001b[0m\u001b[1;33m.\u001b[0m\u001b[0mconverted_call\u001b[0m\u001b[1;33m(\u001b[0m\u001b[0mag__\u001b[0m\u001b[1;33m.\u001b[0m\u001b[0mld\u001b[0m\u001b[1;33m(\u001b[0m\u001b[0mstep_function\u001b[0m\u001b[1;33m)\u001b[0m\u001b[1;33m,\u001b[0m \u001b[1;33m(\u001b[0m\u001b[0mag__\u001b[0m\u001b[1;33m.\u001b[0m\u001b[0mld\u001b[0m\u001b[1;33m(\u001b[0m\u001b[0mself\u001b[0m\u001b[1;33m)\u001b[0m\u001b[1;33m,\u001b[0m \u001b[0mag__\u001b[0m\u001b[1;33m.\u001b[0m\u001b[0mld\u001b[0m\u001b[1;33m(\u001b[0m\u001b[0miterator\u001b[0m\u001b[1;33m)\u001b[0m\u001b[1;33m)\u001b[0m\u001b[1;33m,\u001b[0m \u001b[1;32mNone\u001b[0m\u001b[1;33m,\u001b[0m \u001b[0mfscope\u001b[0m\u001b[1;33m)\u001b[0m\u001b[1;33m\u001b[0m\u001b[1;33m\u001b[0m\u001b[0m\n\u001b[0m\u001b[0;32m     16\u001b[0m                 \u001b[1;32mexcept\u001b[0m\u001b[1;33m:\u001b[0m\u001b[1;33m\u001b[0m\u001b[1;33m\u001b[0m\u001b[0m\n\u001b[0;32m     17\u001b[0m                     \u001b[0mdo_return\u001b[0m \u001b[1;33m=\u001b[0m \u001b[1;32mFalse\u001b[0m\u001b[1;33m\u001b[0m\u001b[1;33m\u001b[0m\u001b[0m\n",
      "\u001b[1;31mValueError\u001b[0m: in user code:\n\n    File \"C:\\Users\\acer\\anaconda3\\lib\\site-packages\\keras\\engine\\training.py\", line 1557, in test_function  *\n        return step_function(self, iterator)\n    File \"C:\\Users\\acer\\anaconda3\\lib\\site-packages\\keras\\engine\\training.py\", line 1546, in step_function  **\n        outputs = model.distribute_strategy.run(run_step, args=(data,))\n    File \"C:\\Users\\acer\\anaconda3\\lib\\site-packages\\keras\\engine\\training.py\", line 1535, in run_step  **\n        outputs = model.test_step(data)\n    File \"C:\\Users\\acer\\anaconda3\\lib\\site-packages\\keras\\engine\\training.py\", line 1499, in test_step\n        y_pred = self(x, training=False)\n    File \"C:\\Users\\acer\\anaconda3\\lib\\site-packages\\keras\\utils\\traceback_utils.py\", line 67, in error_handler\n        raise e.with_traceback(filtered_tb) from None\n    File \"C:\\Users\\acer\\anaconda3\\lib\\site-packages\\keras\\engine\\input_spec.py\", line 264, in assert_input_compatibility\n        raise ValueError(f'Input {input_index} of layer \"{layer_name}\" is '\n\n    ValueError: Input 0 of layer \"sequential_15\" is incompatible with the layer: expected shape=(None, 17), found shape=(None, 7)\n"
     ]
    }
   ],
   "source": [
    "loss, acc = model.evaluate(feat_test, labels_test)\n",
    "labels_estimate = model.predict(labels_estimate)\n",
    "labels_estimate = np.argmax(labels_estimate, axis = 1)\n",
    "true = np.argmax(labels_test, axis = 1)\n",
    "\n",
    "print(classification_report(true, estimate))"
   ]
  }
 ],
 "metadata": {
  "kernelspec": {
   "display_name": "Python 3",
   "language": "python",
   "name": "python3"
  },
  "language_info": {
   "codemirror_mode": {
    "name": "ipython",
    "version": 3
   },
   "file_extension": ".py",
   "mimetype": "text/x-python",
   "name": "python",
   "nbconvert_exporter": "python",
   "pygments_lexer": "ipython3",
   "version": "3.8.5"
  }
 },
 "nbformat": 4,
 "nbformat_minor": 4
}
